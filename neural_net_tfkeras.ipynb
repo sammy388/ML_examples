{
 "cells": [
  {
   "cell_type": "markdown",
   "metadata": {},
   "source": [
    "# Neural network in tensorflow.keras\n",
    "Using a neural net to classify handwritten numbers."
   ]
  },
  {
   "cell_type": "code",
   "execution_count": 1,
   "metadata": {},
   "outputs": [
    {
     "name": "stdout",
     "output_type": "stream",
     "text": [
      "Tensorflow 2.1.0\n"
     ]
    }
   ],
   "source": [
    "import tensorflow as tf\n",
    "from tensorflow import keras\n",
    "import numpy as np\n",
    "import matplotlib.pyplot as plt\n",
    "import math\n",
    "\n",
    "print('Tensorflow', tf.__version__)"
   ]
  },
  {
   "cell_type": "markdown",
   "metadata": {},
   "source": [
    "## Load data"
   ]
  },
  {
   "cell_type": "code",
   "execution_count": 2,
   "metadata": {},
   "outputs": [],
   "source": [
    "mnist = keras.datasets.mnist\n",
    "(x_train, y_train), (x_test, y_test) = mnist.load_data()"
   ]
  },
  {
   "cell_type": "code",
   "execution_count": 3,
   "metadata": {},
   "outputs": [
    {
     "name": "stdout",
     "output_type": "stream",
     "text": [
      "(60000, 28, 28)\n",
      "(60000,)\n"
     ]
    }
   ],
   "source": [
    "print(x_train.shape)\n",
    "print(y_train.shape)"
   ]
  },
  {
   "cell_type": "markdown",
   "metadata": {},
   "source": [
    "60,000 training examples, images are 28x28 pixels."
   ]
  },
  {
   "cell_type": "code",
   "execution_count": 4,
   "metadata": {},
   "outputs": [
    {
     "name": "stdout",
     "output_type": "stream",
     "text": [
      "(10000, 28, 28)\n",
      "(10000,)\n"
     ]
    }
   ],
   "source": [
    "print(x_test.shape)\n",
    "print(y_test.shape)"
   ]
  },
  {
   "cell_type": "markdown",
   "metadata": {},
   "source": [
    "And 10,000 test examples."
   ]
  },
  {
   "cell_type": "code",
   "execution_count": 5,
   "metadata": {},
   "outputs": [
    {
     "data": {
      "text/plain": [
       "{0, 1, 2, 3, 4, 5, 6, 7, 8, 9}"
      ]
     },
     "execution_count": 5,
     "metadata": {},
     "output_type": "execute_result"
    }
   ],
   "source": [
    "set(y_train)"
   ]
  },
  {
   "cell_type": "markdown",
   "metadata": {},
   "source": [
    "Data are digits 0-9."
   ]
  },
  {
   "cell_type": "markdown",
   "metadata": {},
   "source": [
    "## Explore and format data"
   ]
  },
  {
   "cell_type": "code",
   "execution_count": 6,
   "metadata": {},
   "outputs": [
    {
     "data": {
      "text/plain": [
       "255"
      ]
     },
     "execution_count": 6,
     "metadata": {},
     "output_type": "execute_result"
    }
   ],
   "source": [
    "max_val = np.max(x_train)\n",
    "max_val"
   ]
  },
  {
   "cell_type": "markdown",
   "metadata": {},
   "source": [
    "The images are 8-bit. We need to normalise them."
   ]
  },
  {
   "cell_type": "code",
   "execution_count": 7,
   "metadata": {},
   "outputs": [
    {
     "data": {
      "text/plain": [
       "1.0"
      ]
     },
     "execution_count": 7,
     "metadata": {},
     "output_type": "execute_result"
    }
   ],
   "source": [
    "# Normalise data\n",
    "x_train = x_train/max_val\n",
    "x_test = x_test/max_val\n",
    "\n",
    "np.max(x_train)"
   ]
  },
  {
   "cell_type": "code",
   "execution_count": 8,
   "metadata": {},
   "outputs": [
    {
     "data": {
      "image/png": "[encoded data removed]",
      "text/plain": [
       "<Figure size 432x432 with 25 Axes>"
      ]
     },
     "metadata": {},
     "output_type": "display_data"
    }
   ],
   "source": [
    "# Display some data\n",
    "n_train = x_train.shape[0]\n",
    "n_images = 25\n",
    "display_rows = math.floor(math.sqrt(n_images))\n",
    "display_cols = math.ceil(n_images/display_rows)\n",
    "\n",
    "sel = np.random.randint(low=0, high=n_train, size=n_images)\n",
    "plt.figure(figsize=(6, 6))\n",
    "for i in range(n_images):\n",
    "    image = x_train[i]\n",
    "    plt.subplot(display_cols, display_rows, i+1)\n",
    "    plt.xlabel(y_train[i])\n",
    "    plt.imshow(image, cmap='Greys')\n",
    "    plt.xticks([])\n",
    "    plt.yticks([])\n",
    "plt.subplots_adjust(hspace=0.4)\n",
    "plt.show()"
   ]
  },
  {
   "cell_type": "markdown",
   "metadata": {},
   "source": [
    "## Define neural net model"
   ]
  },
  {
   "cell_type": "code",
   "execution_count": 9,
   "metadata": {},
   "outputs": [],
   "source": [
    "image_shape = x_train.shape[1:] # (28, 28)\n",
    "n_features = np.prod(x_train.shape[1:]) # pixels per image, i.e. 28*28\n",
    "n_classes = len(set(y_train)) # 10\n",
    "hidden_layer_size = int(math.sqrt(n_features*n_classes))"
   ]
  },
  {
   "cell_type": "code",
   "execution_count": 10,
   "metadata": {},
   "outputs": [
    {
     "name": "stdout",
     "output_type": "stream",
     "text": [
      "Model: \"sequential\"\n",
      "_________________________________________________________________\n",
      "Layer (type)                 Output Shape              Param #   \n",
      "=================================================================\n",
      "flatten (Flatten)            (None, 784)               0         \n",
      "_________________________________________________________________\n",
      "dense (Dense)                (None, 88)                69080     \n",
      "_________________________________________________________________\n",
      "dense_1 (Dense)              (None, 10)                890       \n",
      "=================================================================\n",
      "Total params: 69,970\n",
      "Trainable params: 69,970\n",
      "Non-trainable params: 0\n",
      "_________________________________________________________________\n"
     ]
    }
   ],
   "source": [
    "model = keras.Sequential([\n",
    "    keras.layers.Flatten(input_shape=image_shape),\n",
    "    keras.layers.Dense(hidden_layer_size, activation='relu'),\n",
    "    keras.layers.Dense(n_classes)\n",
    "])\n",
    "\n",
    "model.summary()"
   ]
  },
  {
   "cell_type": "code",
   "execution_count": 11,
   "metadata": {},
   "outputs": [],
   "source": [
    "model.compile(optimizer='adam',\n",
    "             loss=tf.keras.losses.SparseCategoricalCrossentropy(from_logits=True),\n",
    "             metrics=['accuracy'])"
   ]
  },
  {
   "cell_type": "markdown",
   "metadata": {},
   "source": [
    "## Train"
   ]
  },
  {
   "cell_type": "code",
   "execution_count": 12,
   "metadata": {},
   "outputs": [
    {
     "name": "stdout",
     "output_type": "stream",
     "text": [
      "Train on 60000 samples\n",
      "Epoch 1/10\n",
      "60000/60000 [==============================] - 4s 67us/sample - loss: 0.2720 - accuracy: 0.9222\n",
      "Epoch 2/10\n",
      "60000/60000 [==============================] - 4s 66us/sample - loss: 0.1242 - accuracy: 0.9641\n",
      "Epoch 3/10\n",
      "60000/60000 [==============================] - 4s 73us/sample - loss: 0.0878 - accuracy: 0.9744\n",
      "Epoch 4/10\n",
      "60000/60000 [==============================] - 4s 67us/sample - loss: 0.0680 - accuracy: 0.9797\n",
      "Epoch 5/10\n",
      "60000/60000 [==============================] - 4s 69us/sample - loss: 0.0547 - accuracy: 0.9831\n",
      "Epoch 6/10\n",
      "60000/60000 [==============================] - 4s 66us/sample - loss: 0.0439 - accuracy: 0.9861\n",
      "Epoch 7/10\n",
      "60000/60000 [==============================] - 4s 65us/sample - loss: 0.0370 - accuracy: 0.9885\n",
      "Epoch 8/10\n",
      "60000/60000 [==============================] - 4s 65us/sample - loss: 0.0303 - accuracy: 0.9908\n",
      "Epoch 9/10\n",
      "60000/60000 [==============================] - 4s 64us/sample - loss: 0.0256 - accuracy: 0.9920\n",
      "Epoch 10/10\n",
      "60000/60000 [==============================] - 4s 68us/sample - loss: 0.0205 - accuracy: 0.9940\n"
     ]
    },
    {
     "data": {
      "text/plain": [
       "<tensorflow.python.keras.callbacks.History at 0x65a6eaa58>"
      ]
     },
     "execution_count": 12,
     "metadata": {},
     "output_type": "execute_result"
    }
   ],
   "source": [
    "model.fit(x_train, y_train, epochs=10)"
   ]
  },
  {
   "cell_type": "markdown",
   "metadata": {},
   "source": [
    "## Test"
   ]
  },
  {
   "cell_type": "code",
   "execution_count": 13,
   "metadata": {},
   "outputs": [
    {
     "name": "stdout",
     "output_type": "stream",
     "text": [
      "10000/10000 [==============================] - 1s 52us/sample - loss: 0.0774 - accuracy: 0.9779\n",
      "Test accuracy: 97.79%\n"
     ]
    }
   ],
   "source": [
    "test_acc = model.evaluate(x_test, y_test)[1]\n",
    "print('Test accuracy: %.2f%%' %(test_acc*100))"
   ]
  },
  {
   "cell_type": "code",
   "execution_count": 14,
   "metadata": {},
   "outputs": [
    {
     "data": {
      "text/plain": [
       "array([ -5.7814703 , -15.371113  ,  -0.33710498,   3.0842822 ,\n",
       "       -18.49006   ,  -9.507769  , -20.04048   ,  11.315777  ,\n",
       "        -5.6258416 ,   0.33937216], dtype=float32)"
      ]
     },
     "execution_count": 14,
     "metadata": {},
     "output_type": "execute_result"
    }
   ],
   "source": [
    "x_pred = model.predict(x_test)\n",
    "x_pred[0]"
   ]
  },
  {
   "cell_type": "markdown",
   "metadata": {},
   "source": [
    "Output is logits. We need to convert this into labels."
   ]
  },
  {
   "cell_type": "code",
   "execution_count": 15,
   "metadata": {},
   "outputs": [
    {
     "data": {
      "text/plain": [
       "7"
      ]
     },
     "execution_count": 15,
     "metadata": {},
     "output_type": "execute_result"
    }
   ],
   "source": [
    "x_pred_labels = np.argmax(x_pred, axis=1)\n",
    "x_pred_labels[0]"
   ]
  },
  {
   "cell_type": "code",
   "execution_count": 16,
   "metadata": {},
   "outputs": [
    {
     "data": {
      "image/png": "[encoded data removed]",
      "text/plain": [
       "<Figure size 432x432 with 25 Axes>"
      ]
     },
     "metadata": {},
     "output_type": "display_data"
    }
   ],
   "source": [
    "# Display some predictions, just for fun\n",
    "n_test = x_test.shape[0]\n",
    "n_images = 25\n",
    "display_rows = math.floor(math.sqrt(n_images))\n",
    "display_cols = math.ceil(n_images/display_rows)\n",
    "\n",
    "sel = np.random.randint(low=0, high=n_test, size=n_images)\n",
    "plt.figure(figsize=(6, 6))\n",
    "for i in range(n_images):\n",
    "    image = x_test[i]\n",
    "    plt.subplot(display_cols, display_rows, i+1)\n",
    "    plt.xlabel('Label: %d \\nPred: %d' %(y_test[i], x_pred_labels[i]))\n",
    "    plt.imshow(image, cmap='Greys')\n",
    "    plt.xticks([])\n",
    "    plt.yticks([])\n",
    "plt.subplots_adjust(hspace=0.8)\n",
    "plt.show()"
   ]
  }
 ],
 "metadata": {
  "kernelspec": {
   "display_name": "Python 3",
   "language": "python",
   "name": "python3"
  },
  "language_info": {
   "codemirror_mode": {
    "name": "ipython",
    "version": 3
   },
   "file_extension": ".py",
   "mimetype": "text/x-python",
   "name": "python",
   "nbconvert_exporter": "python",
   "pygments_lexer": "ipython3",
   "version": "3.6.10"
  }
 },
 "nbformat": 4,
 "nbformat_minor": 4
}
